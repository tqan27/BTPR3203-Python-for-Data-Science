{
 "cells": [
  {
   "cell_type": "markdown",
   "id": "69d2f5fc-024a-4364-9d96-5639937f8bd5",
   "metadata": {},
   "source": [
    "<h1>Helping Hands Community Aid Program</h1>"
   ]
  },
  {
   "cell_type": "code",
   "execution_count": 54,
   "id": "dbbf3a02-58c4-452f-8bc7-a191adb2ca80",
   "metadata": {},
   "outputs": [
    {
     "name": "stdout",
     "output_type": "stream",
     "text": [
      "1. Add/Update Item Stock\n",
      "2. Display Current Inventory\n",
      "3. Beneficiary Management (Part 2)\n",
      "4. Distribution (Part 3)\n",
      "5. Reports (Part 4)\n",
      "0. Exit Program\n"
     ]
    },
    {
     "name": "stdin",
     "output_type": "stream",
     "text": [
      "Enter your options:  1\n",
      "Enter item name:  Blanket\n",
      "Enter item quantity:  5\n"
     ]
    },
    {
     "name": "stdout",
     "output_type": "stream",
     "text": [
      "Stock for Blanket updated. New quantity 5\n",
      "1. Add/Update Item Stock\n",
      "2. Display Current Inventory\n",
      "3. Beneficiary Management (Part 2)\n",
      "4. Distribution (Part 3)\n",
      "5. Reports (Part 4)\n",
      "0. Exit Program\n"
     ]
    },
    {
     "name": "stdin",
     "output_type": "stream",
     "text": [
      "Enter your options:  2\n"
     ]
    },
    {
     "name": "stdout",
     "output_type": "stream",
     "text": [
      "\n",
      "---Current Inventory---\n",
      "Food Package: 100 units\n",
      "Hygiene Kit: 50 units\n",
      "Blanket: 35 units\n",
      "------------------------\n",
      "1. Add/Update Item Stock\n",
      "2. Display Current Inventory\n",
      "3. Beneficiary Management (Part 2)\n",
      "4. Distribution (Part 3)\n",
      "5. Reports (Part 4)\n",
      "0. Exit Program\n"
     ]
    },
    {
     "name": "stdin",
     "output_type": "stream",
     "text": [
      "Enter your options:  1\n",
      "Enter item name:  bed\n",
      "Enter item quantity:  10\n"
     ]
    },
    {
     "name": "stdout",
     "output_type": "stream",
     "text": [
      "New item bed added with quantity: 10\n",
      "1. Add/Update Item Stock\n",
      "2. Display Current Inventory\n",
      "3. Beneficiary Management (Part 2)\n",
      "4. Distribution (Part 3)\n",
      "5. Reports (Part 4)\n",
      "0. Exit Program\n"
     ]
    },
    {
     "name": "stdin",
     "output_type": "stream",
     "text": [
      "Enter your options:  2\n"
     ]
    },
    {
     "name": "stdout",
     "output_type": "stream",
     "text": [
      "\n",
      "---Current Inventory---\n",
      "Food Package: 100 units\n",
      "Hygiene Kit: 50 units\n",
      "Blanket: 35 units\n",
      "bed: 10 units\n",
      "------------------------\n",
      "1. Add/Update Item Stock\n",
      "2. Display Current Inventory\n",
      "3. Beneficiary Management (Part 2)\n",
      "4. Distribution (Part 3)\n",
      "5. Reports (Part 4)\n",
      "0. Exit Program\n"
     ]
    },
    {
     "name": "stdin",
     "output_type": "stream",
     "text": [
      "Enter your options:  3\n"
     ]
    },
    {
     "name": "stdout",
     "output_type": "stream",
     "text": [
      "r. Register New Beneficiary\n",
      "u. Update Beneficiary Eligibility\n",
      "d. Display Beneficiary\n"
     ]
    },
    {
     "name": "stdin",
     "output_type": "stream",
     "text": [
      "Enter your choice:  r\n",
      "Enter beneficiary name: John\n"
     ]
    },
    {
     "name": "stdout",
     "output_type": "stream",
     "text": [
      "New registered beneficiary ID: 1, Name: John\n",
      "1. Add/Update Item Stock\n",
      "2. Display Current Inventory\n",
      "3. Beneficiary Management (Part 2)\n",
      "4. Distribution (Part 3)\n",
      "5. Reports (Part 4)\n",
      "0. Exit Program\n"
     ]
    },
    {
     "name": "stdin",
     "output_type": "stream",
     "text": [
      "Enter your options:  3\n"
     ]
    },
    {
     "name": "stdout",
     "output_type": "stream",
     "text": [
      "r. Register New Beneficiary\n",
      "u. Update Beneficiary Eligibility\n",
      "d. Display Beneficiary\n"
     ]
    },
    {
     "name": "stdin",
     "output_type": "stream",
     "text": [
      "Enter your choice:  u\n",
      "Enter new user beneficiary id:  2\n",
      "Update eligibility status (True/False:) true\n"
     ]
    },
    {
     "name": "stdout",
     "output_type": "stream",
     "text": [
      "Beneficiary ID 2 not found.\n",
      "1. Add/Update Item Stock\n",
      "2. Display Current Inventory\n",
      "3. Beneficiary Management (Part 2)\n",
      "4. Distribution (Part 3)\n",
      "5. Reports (Part 4)\n",
      "0. Exit Program\n"
     ]
    },
    {
     "name": "stdin",
     "output_type": "stream",
     "text": [
      "Enter your options:  3\n"
     ]
    },
    {
     "name": "stdout",
     "output_type": "stream",
     "text": [
      "r. Register New Beneficiary\n",
      "u. Update Beneficiary Eligibility\n",
      "d. Display Beneficiary\n"
     ]
    },
    {
     "name": "stdin",
     "output_type": "stream",
     "text": [
      "Enter your choice:  d\n"
     ]
    },
    {
     "name": "stdout",
     "output_type": "stream",
     "text": [
      "\n",
      "---Registered Beneficiary---\n",
      "ID: 1, Name: John, Status: Eligible\n",
      "-------------------------------\n",
      "1. Add/Update Item Stock\n",
      "2. Display Current Inventory\n",
      "3. Beneficiary Management (Part 2)\n",
      "4. Distribution (Part 3)\n",
      "5. Reports (Part 4)\n",
      "0. Exit Program\n"
     ]
    },
    {
     "name": "stdin",
     "output_type": "stream",
     "text": [
      "Enter your options:  4\n",
      "Enter beneficiary ID:  1\n",
      "Enter item name:  buh\n",
      "Enter quantity to distribute:  4\n"
     ]
    },
    {
     "name": "stdout",
     "output_type": "stream",
     "text": [
      "buh not found in inventory\n",
      "1. Add/Update Item Stock\n",
      "2. Display Current Inventory\n",
      "3. Beneficiary Management (Part 2)\n",
      "4. Distribution (Part 3)\n",
      "5. Reports (Part 4)\n",
      "0. Exit Program\n"
     ]
    },
    {
     "name": "stdin",
     "output_type": "stream",
     "text": [
      "Enter your options:  4\n",
      "Enter beneficiary ID:  1\n",
      "Enter item name:  bed\n",
      "Enter quantity to distribute:  3\n"
     ]
    },
    {
     "name": "stdout",
     "output_type": "stream",
     "text": [
      "Successfully distributed 3 of bed to Beneficiary ID 1.\n",
      "1. Add/Update Item Stock\n",
      "2. Display Current Inventory\n",
      "3. Beneficiary Management (Part 2)\n",
      "4. Distribution (Part 3)\n",
      "5. Reports (Part 4)\n",
      "0. Exit Program\n"
     ]
    },
    {
     "name": "stdin",
     "output_type": "stream",
     "text": [
      "Enter your options:  2\n"
     ]
    },
    {
     "name": "stdout",
     "output_type": "stream",
     "text": [
      "\n",
      "---Current Inventory---\n",
      "Food Package: 100 units\n",
      "Hygiene Kit: 50 units\n",
      "Blanket: 35 units\n",
      "bed: 7 units\n",
      "------------------------\n",
      "1. Add/Update Item Stock\n",
      "2. Display Current Inventory\n",
      "3. Beneficiary Management (Part 2)\n",
      "4. Distribution (Part 3)\n",
      "5. Reports (Part 4)\n",
      "0. Exit Program\n"
     ]
    },
    {
     "name": "stdin",
     "output_type": "stream",
     "text": [
      "Enter your options:  5\n"
     ]
    },
    {
     "name": "stdout",
     "output_type": "stream",
     "text": [
      "-----Reports-----\n",
      "Total unique beneficiaries distributed: 1\n",
      "\n",
      "Total quantities distributed\n",
      "bed: 3 units.\n",
      "\n",
      "All items are currently in stock\n",
      "1. Add/Update Item Stock\n",
      "2. Display Current Inventory\n",
      "3. Beneficiary Management (Part 2)\n",
      "4. Distribution (Part 3)\n",
      "5. Reports (Part 4)\n",
      "0. Exit Program\n"
     ]
    },
    {
     "name": "stdin",
     "output_type": "stream",
     "text": [
      "Enter your options:  0\n"
     ]
    },
    {
     "name": "stdout",
     "output_type": "stream",
     "text": [
      "Exiting Program.\n"
     ]
    }
   ],
   "source": [
    "# part 3,1 distribution history\n",
    "from datetime import datetime\n",
    "\n",
    "# part 1, 1. initial inventory\n",
    "inventory_stock = {'Food Package': 100, 'Hygiene Kit': 50, 'Blanket': 30}\n",
    "# part 2, 1 beneficiary data structure, maintain a python list\n",
    "beneficiary_list = []\n",
    "beneficiary_id = 1\n",
    "# part 3, 1 item distribution process, create a python list\n",
    "distribution_history = []\n",
    "\n",
    "# part1, 2 addnew item/update stock\n",
    "def add_update_item():\n",
    "    # prompt the user\n",
    "    item_name = input(\"Enter item name: \")\n",
    "    quantity = int(input(\"Enter item quantity: \"))\n",
    "    # if items exist, then new quantity\n",
    "    if item_name in inventory_stock:\n",
    "        inventory_stock[item_name] += quantity\n",
    "        print(f\"Stock for {item_name} updated. New quantity {quantity}\")\n",
    "    # else(item not exist), add item with quantity\n",
    "    else:\n",
    "        inventory_stock[item_name] = quantity\n",
    "        print(f\"New item {item_name} added with quantity: {quantity}\")\n",
    "\n",
    "# part 1, 3 display inventory\n",
    "def display_inventory():\n",
    "    print(\"\\n---Current Inventory---\")\n",
    "    for item, quantity in inventory_stock.items():\n",
    "        print(f\"{item}: {quantity} units\")\n",
    "    print(\"------------------------\")\n",
    "\n",
    "# part 2, 1 and 2 beneficiary data structure and register new beneficiary\n",
    "def register_beneficiary():\n",
    "    #automatically generate unique id\n",
    "    global beneficiary_id\n",
    "    # prompt user for beneficiary name\n",
    "    beneficiary_name = input(\"Enter beneficiary name:\")\n",
    "    # beneficiary dictionary\n",
    "    new_beneficiary = {\n",
    "        \"id\": beneficiary_id,\n",
    "        \"name\": beneficiary_name,\n",
    "        \"eligible\": True\n",
    "    }\n",
    "    # append it to beneficiary list\n",
    "    beneficiary_list.append(new_beneficiary)\n",
    "    print(f\"New registered beneficiary ID: {beneficiary_id}, Name: {beneficiary_name}\")\n",
    "    beneficiary_id +=1\n",
    "\n",
    "# part 2, 3 update beneficiary eligibility\n",
    "def update_beneficiary_eligibility():\n",
    "    #prompt user for beneficiary id and eligibility status\n",
    "    beneficiary_id = int(input(\"Enter new user beneficiary id: \"))\n",
    "    eligibility_status = input(\"Update eligibility status (True/False:)\").lower()\n",
    "    status = True if eligibility_status == \"True\" else False\n",
    "    found = False\n",
    "    # iterate through beneficiary_list to find a new elibility status\n",
    "    for new_beneficiary in beneficiary_list:\n",
    "        # if found, update status and print conformation\n",
    "        if new_beneficiary[\"id\"] == beneficiary_id:\n",
    "            new_beneficiary['eligible'] = eligibility_status\n",
    "            print(f\"Eligibility status updatede for ID {beneficiary_id}.\")\n",
    "            found = True\n",
    "            break\n",
    "        #if not found print error message\n",
    "        if not found:\n",
    "            print(f\"Beneficiary ID {beneficiary_id} not found.\")\n",
    "\n",
    "# display beneficiary (not in assignment, just for testing)\n",
    "def display_beneficiary():\n",
    "    if not beneficiary_list:\n",
    "        print(\"Not yet register\")\n",
    "        return\n",
    "\n",
    "    print(\"\\n---Registered Beneficiary---\")\n",
    "    for beneficiary in beneficiary_list:\n",
    "        eligibility_status = \"Eligible\" if beneficiary[\"eligible\"] else \"Not Eligible\"\n",
    "        print(f\"ID: {beneficiary[\"id\"]}, Name: {beneficiary[\"name\"]}, Status: {eligibility_status}\")\n",
    "    print(\"-------------------------------\")\n",
    "\n",
    "# part 3, 1 and 2 distribution history, distribute item\n",
    "def distribution():\n",
    "    # prompt the user\n",
    "    beneficiary_id = int(input(\"Enter beneficiary ID: \"))\n",
    "    item_name = input(\"Enter item name: \")\n",
    "    quantity_to_distribute = input(\"Enter quantity to distribute: \")\n",
    "\n",
    "    # validation pass\n",
    "    if item_name not in inventory_stock:\n",
    "        print(f\"{item_name} not found in inventory\")\n",
    "        return\n",
    "\n",
    "    if int(quantity_to_distribute) <= 0:\n",
    "        print(\"Quantity must be greater than 0\")\n",
    "        return\n",
    "\n",
    "    if inventory_stock[item_name] < int(quantity_to_distribute):\n",
    "        print(f\"Not enough {item_name} in stock. Available: {inventory_stock[item_name]}\")\n",
    "        return\n",
    "\n",
    "    # decrease the quantity \n",
    "    inventory_stock[item_name] -= int(quantity_to_distribute)\n",
    "\n",
    "    # datetime import\n",
    "    timestamp = datetime.now().strftime(\"%Y-%m-%d %H:%M:%S\")\n",
    "    # recorded as a tuple\n",
    "    distribution_record = (timestamp, beneficiary_id, item_name, quantity_to_distribute)\n",
    "    # record distribution\n",
    "    distribution_history.append(distribution_record)\n",
    "\n",
    "    print(f\"Successfully distributed {quantity_to_distribute} of {item_name} to Beneficiary ID {beneficiary_id}.\")\n",
    "\n",
    "#part 4, reporting and summary \n",
    "def reports(distribution_history, inventory_stock):\n",
    "    \n",
    "    # calculate total number of unique beneficaries\n",
    "    print(\"-----Reports-----\")\n",
    "    # entry[1] gets the beneficiary id from each distribution tuple\n",
    "    # set() remove duplicate\n",
    "    unique_beneficiaries = set(entry[1] for entry in distribution_history)\n",
    "    print(f\"Total unique beneficiaries distributed: {len(unique_beneficiaries)}\")\n",
    "\n",
    "    # calculate total quantity of each distributed item\n",
    "    total_distribution = {}\n",
    "    for entry in distribution_history:\n",
    "        item_name = entry[2] # get item name from tuple\n",
    "        quantity = int(entry[3]) # get quantity and convert to int\n",
    "\n",
    "        if item_name in total_distribution:\n",
    "            total_distribution[item_name] += quantity # add to total distribution\n",
    "        else:\n",
    "            total_distribution[item_name] = quantity # create new entry\n",
    "\n",
    "    # total quantity of each item distributed\n",
    "    print(\"\\nTotal quantities distributed\")\n",
    "    # show the total amount of each items that has been distributed\n",
    "    if total_distribution:\n",
    "        for item, total_quantity in total_distribution.items():\n",
    "            print(f\"{item}: {total_quantity} units.\")\n",
    "    else:\n",
    "        print(\"No items have been distributed yet\")\n",
    "\n",
    "    # out of stock\n",
    "    # use list comprehension to find zero quantity items\n",
    "    out_of_stock_items = [item for item, quantity in inventory_stock.items() if quantity == 0]\n",
    "    if out_of_stock_items:\n",
    "        print(\"\\nOut of Stock Items: \")\n",
    "        for item in out_of_stock_items:\n",
    "            print(f\" - {item}\")\n",
    "    else:\n",
    "        print(\"\\nAll items are currently in stock\")\n",
    "\n",
    "    \n",
    "#part 1, 4 main menu integration\n",
    "while True:\n",
    "    print(\"1. Add/Update Item Stock\")\n",
    "    print(\"2. Display Current Inventory\")\n",
    "    print(\"3. Beneficiary Management (Part 2)\") \n",
    "    print(\"4. Distribution (Part 3)\")\n",
    "    print(\"5. Reports (Part 4)\")\n",
    "    print(\"0. Exit Program\")\n",
    "    choice = input(\"Enter your options: \")\n",
    "\n",
    "    if choice == \"1\":\n",
    "        add_update_item()\n",
    "    elif choice == \"2\":\n",
    "        display_inventory()\n",
    "    elif choice == \"3\":\n",
    "        print(\"r. Register New Beneficiary\")\n",
    "        print(\"u. Update Beneficiary Eligibility\")\n",
    "        print(\"d. Display Beneficiary\")\n",
    "        sub_choice = input(\"Enter your choice: \")\n",
    "        if sub_choice == \"r\":\n",
    "            register_beneficiary()\n",
    "        elif sub_choice == \"u\":\n",
    "            update_beneficiary_eligibility()\n",
    "        elif sub_choice == \"d\":\n",
    "            display_beneficiary()\n",
    "        elif sub_choice == \"e\":\n",
    "            print(\"e. Exiting Beneficiary\")\n",
    "            break\n",
    "        else:\n",
    "            print(\"Wrong option! Try Again!\")\n",
    "    elif choice == \"4\":\n",
    "        distribution()\n",
    "    elif choice == \"5\":\n",
    "        reports(distribution_history, inventory_stock)\n",
    "    elif choice == \"0\":\n",
    "        print(\"Exiting Program.\")\n",
    "        break\n",
    "    else:\n",
    "        print(\"Wrong option! Try Again!\")"
   ]
  }
 ],
 "metadata": {
  "kernelspec": {
   "display_name": "Python 3 (ipykernel)",
   "language": "python",
   "name": "python3"
  },
  "language_info": {
   "codemirror_mode": {
    "name": "ipython",
    "version": 3
   },
   "file_extension": ".py",
   "mimetype": "text/x-python",
   "name": "python",
   "nbconvert_exporter": "python",
   "pygments_lexer": "ipython3",
   "version": "3.12.3"
  }
 },
 "nbformat": 4,
 "nbformat_minor": 5
}
